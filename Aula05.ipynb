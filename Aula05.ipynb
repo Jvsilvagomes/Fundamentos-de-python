{
  "nbformat": 4,
  "nbformat_minor": 0,
  "metadata": {
    "colab": {
      "provenance": [],
      "authorship_tag": "ABX9TyNsDpR8Wgn7q3kfkmcrKxFm",
      "include_colab_link": true
    },
    "kernelspec": {
      "name": "python3",
      "display_name": "Python 3"
    },
    "language_info": {
      "name": "python"
    }
  },
  "cells": [
    {
      "cell_type": "markdown",
      "metadata": {
        "id": "view-in-github",
        "colab_type": "text"
      },
      "source": [
        "<a href=\"https://colab.research.google.com/github/Jvsilvagomes/Fundamentos-de-python/blob/main/Aula05.ipynb\" target=\"_parent\"><img src=\"https://colab.research.google.com/assets/colab-badge.svg\" alt=\"Open In Colab\"/></a>"
      ]
    },
    {
      "cell_type": "markdown",
      "source": [
        "Dicionário"
      ],
      "metadata": {
        "id": "hav4x8c7DzV-"
      }
    },
    {
      "cell_type": "code",
      "execution_count": null,
      "metadata": {
        "colab": {
          "base_uri": "https://localhost:8080/"
        },
        "id": "50U5nnkES_TG",
        "outputId": "f214a969-b76a-4abe-f5bd-458c53533aea"
      },
      "outputs": [
        {
          "output_type": "stream",
          "name": "stdout",
          "text": [
            "{'nome': 'João', 'sexo': 'Masculino', 'idade': 16, 'casado': True}\n",
            "<class 'dict'>\n",
            "--------------------------------------------------------------------\n",
            "{'nome': 'Julia', 'sexo': 'feminino', 'idade': 16, 'casada': True}\n",
            "<class 'dict'>\n",
            "--------------------------------------------------------------------\n",
            "feminino\n",
            "16\n"
          ]
        }
      ],
      "source": [
        "# declarando o dicionario\n",
        "\n",
        "# forma 1\n",
        "person1 = {\n",
        "    'nome' : 'João',\n",
        "    'sexo' : 'Masculino',\n",
        "    'idade' : 16,\n",
        "    'casado' : True\n",
        "}\n",
        "\n",
        "print(person1)\n",
        "print(type(person1))\n",
        "\n",
        "print(\"--------------------------------------------------------------------\")\n",
        "\n",
        "# forma 2\n",
        "person2 = dict(nome='Julia', sexo='feminino', idade= 16, casada= True)\n",
        "\n",
        "print(person2)\n",
        "print(type(person2))\n",
        "\n",
        "print(\"--------------------------------------------------------------------\")\n",
        "\n",
        "print(person2['sexo'])\n",
        "print(person2['idade'])"
      ]
    },
    {
      "cell_type": "code",
      "source": [
        "dict1 = {}\n",
        "print(dict1)\n",
        "dict1[\"chave 1\"] = \"nao está mais vazio!\"\n",
        "print(dict1)\n",
        "\n",
        "print(\"----------------------------------\")\n",
        "dict2 = {\n",
        "    'pessoa1':['joao',16,'Estudante'],\n",
        "    'pessoa2':['julia',16,'Estudante']\n",
        "}\n",
        "\n",
        "print(dict2)\n",
        "print(dict2['pessoa1'][0])"
      ],
      "metadata": {
        "colab": {
          "base_uri": "https://localhost:8080/"
        },
        "id": "Pq6ro0ofW2_-",
        "outputId": "3d591055-776d-4f74-c477-cb27ce80ecc8"
      },
      "execution_count": null,
      "outputs": [
        {
          "output_type": "stream",
          "name": "stdout",
          "text": [
            "{}\n",
            "{'chave 1': 'nao está mais vazio!'}\n",
            "----------------------------------\n",
            "{'pessoa1': ['joao', 16, 'Estudante'], 'pessoa2': ['julia', 16, 'Estudante']}\n",
            "joao\n"
          ]
        }
      ]
    },
    {
      "cell_type": "code",
      "source": [
        "# Dicionario aninhado\n",
        "pessoa = {\n",
        "    'nome' : 'joao',\n",
        "    'idade' : 16,\n",
        "    'endereco' :{\n",
        "        'rua': 'quartorze',\n",
        "        'cidade' : 'Cidade Valinhos',\n",
        "        'estado' : 'Sao Paulo'\n",
        "    }\n",
        "}\n",
        "#  continuação\n",
        "\n",
        "print(pessoa['nome'], pessoa['endereco'])\n",
        "\n",
        "print('------------------------------------------------------------')\n",
        "# acessando valores no dicionario aninhado\n",
        "\n",
        "print(\"Nome:\",pessoa['nome'])\n",
        "print(\"Idade:\",pessoa['idade'])\n",
        "print(\"Endereço:\",pessoa['endereco']['rua'], pessoa['endereco']['cidade'])\n",
        "\n",
        "\n"
      ],
      "metadata": {
        "id": "4EYkk-pvZ5c2",
        "colab": {
          "base_uri": "https://localhost:8080/"
        },
        "outputId": "bc2efca6-e302-4305-81e1-c690bbc07511"
      },
      "execution_count": null,
      "outputs": [
        {
          "output_type": "stream",
          "name": "stdout",
          "text": [
            "joao {'rua': 'quartorze', 'cidade': 'Cidade Valinhos', 'estado': 'Sao Paulo'}\n",
            "------------------------------------------------------------\n",
            "Nome: joao\n",
            "Idade: 16\n",
            "Endereço: quartorze Cidade Valinhos\n"
          ]
        }
      ]
    },
    {
      "cell_type": "code",
      "source": [
        "# metodo get para acessar a variavel\n",
        "\n",
        "person1.get(\"nome\")"
      ],
      "metadata": {
        "colab": {
          "base_uri": "https://localhost:8080/",
          "height": 35
        },
        "id": "ydIiWSw-5wwA",
        "outputId": "ec6917a2-bccb-44a2-b901-36588d11f843"
      },
      "execution_count": null,
      "outputs": [
        {
          "output_type": "execute_result",
          "data": {
            "text/plain": [
              "'João'"
            ],
            "application/vnd.google.colaboratory.intrinsic+json": {
              "type": "string"
            }
          },
          "metadata": {},
          "execution_count": 22
        }
      ]
    },
    {
      "cell_type": "code",
      "source": [
        "# alterar a informação ja criada\n",
        "\n",
        "person1['casado'] = True\n",
        "# adicionar um novo campo e chave\n",
        "person1['nacionalidade'] = 'Brasileiro'\n",
        "\n",
        "print(person1)\n",
        "print(type(person1))"
      ],
      "metadata": {
        "colab": {
          "base_uri": "https://localhost:8080/"
        },
        "id": "OE0Xp6WD7UmQ",
        "outputId": "b72fd7d2-1dba-404d-8f1f-d26f51bef85a"
      },
      "execution_count": null,
      "outputs": [
        {
          "output_type": "stream",
          "name": "stdout",
          "text": [
            "{'nome': 'João', 'sexo': 'Masculino', 'idade': 16, 'casado': True, 'nacionalidade': 'Brasileiro'}\n",
            "<class 'dict'>\n"
          ]
        }
      ]
    },
    {
      "cell_type": "code",
      "source": [
        "# remover um chave e o valor associado de um dicionaraio\n",
        "print(person1)\n",
        "person1.pop('nacionalidade') #remove a nacionalidade e se o pop estiver vazio removwe o ultimo - pop()\n",
        "print(person1)"
      ],
      "metadata": {
        "colab": {
          "base_uri": "https://localhost:8080/"
        },
        "id": "C0T3Q0178873",
        "outputId": "75127158-a2d7-4a46-a27c-046d5120fc51"
      },
      "execution_count": null,
      "outputs": [
        {
          "output_type": "stream",
          "name": "stdout",
          "text": [
            "{'nome': 'João', 'sexo': 'Masculino', 'idade': 16, 'casado': True, 'nacionalidade': 'Brasileiro'}\n",
            "{'nome': 'João', 'sexo': 'Masculino', 'idade': 16, 'casado': True}\n"
          ]
        }
      ]
    },
    {
      "cell_type": "code",
      "source": [
        "# Os dicionarios tambem fornecem metodos para visualizar as chaves e valores que é o que tem em cada key\n",
        "print(person1.keys())\n",
        "# visualizabdo os valores\n",
        "print(person1.values())\n",
        "\n"
      ],
      "metadata": {
        "colab": {
          "base_uri": "https://localhost:8080/"
        },
        "id": "ffNgq7CV-AiO",
        "outputId": "e5c76469-d57d-4100-ebc7-e604d1e1df93"
      },
      "execution_count": null,
      "outputs": [
        {
          "output_type": "stream",
          "name": "stdout",
          "text": [
            "dict_keys(['nome', 'sexo', 'idade', 'casado'])\n",
            "dict_values(['João', 'Masculino', 16, True])\n"
          ]
        }
      ]
    },
    {
      "cell_type": "code",
      "source": [
        "# criando um dicionario\n",
        "meu_dicionario = {'a' : 1,'b' :2, 'c': 3}\n",
        "#dicionario original\n",
        "print(\"dicionario original:\", meu_dicionario)\n",
        "# usando o metodo clear para remover todos os itens\n",
        "meu_dicionario.clear()\n",
        "# exibindo  dicionario apos o clear\n",
        "print(\"Dicionário após clear:\", meu_dicionario)"
      ],
      "metadata": {
        "id": "VuRxPZHn_0On"
      },
      "execution_count": null,
      "outputs": []
    },
    {
      "cell_type": "code",
      "source": [
        "# criando um dicionario\n",
        "meu_dicionario = {'a' : 1,'b' :2, 'c': 3}\n",
        "# usando del para remover um item associado a chave\n",
        "\n",
        "del meu_dicionario['b']\n",
        "print(meu_dicionario)\n"
      ],
      "metadata": {
        "colab": {
          "base_uri": "https://localhost:8080/"
        },
        "id": "J_jJzV5-DLk_",
        "outputId": "1e5c08f1-3014-4ebb-8862-34b7bcb67dc7"
      },
      "execution_count": null,
      "outputs": [
        {
          "output_type": "stream",
          "name": "stdout",
          "text": [
            "{'a': 1, 'c': 3}\n"
          ]
        }
      ]
    },
    {
      "cell_type": "code",
      "source": [
        "# dicionario original\n",
        "dicionario1 = {'a':1, 'b':2}\n",
        "# adicionando elementos de um outro dicionario\n",
        "dicionario2 = {'b':3, 'c':4}\n",
        "dicionario1.update(dicionario2)\n",
        "\n",
        "# exibindo o dicionario apos a att\n",
        "\n",
        "print(\"dicionario apos update:\", dicionario1)\n"
      ],
      "metadata": {
        "id": "B906-tj1EXYO"
      },
      "execution_count": null,
      "outputs": []
    },
    {
      "cell_type": "code",
      "source": [
        "informacoes_pessoa = {\n",
        "    'nome': 'Julia',\n",
        "    'idade': 16,\n",
        "    'cidade': 'Louveira'\n",
        "}\n",
        "\n",
        "print(informacoes_pessoa)\n",
        "\n",
        "print('-----------------------------')\n",
        "\n",
        "print('nome da pessoa:', informacoes_pessoa['nome'])\n",
        "print('idade da pessoa:', informacoes_pessoa['idade'])\n",
        "print('cidade onde mora:', informacoes_pessoa['cidade'])"
      ],
      "metadata": {
        "id": "43TF1zL2J4GP"
      },
      "execution_count": null,
      "outputs": []
    },
    {
      "cell_type": "code",
      "source": [
        "estoque = {\n",
        "    'maças': 10,\n",
        "    'bananas': 15,\n",
        "    'laranjas': 8\n",
        "}\n",
        "print(estoque)\n",
        "estoquemais = {'maças': 12, 'bananas': 17,'laranjas':14 }\n",
        "estoque.update(estoquemais)\n",
        "\n",
        "print(estoque)"
      ],
      "metadata": {
        "colab": {
          "base_uri": "https://localhost:8080/"
        },
        "id": "zvdlgf6JQQOc",
        "outputId": "a9a288d0-ec9b-4396-ca54-ced315206a88"
      },
      "execution_count": null,
      "outputs": [
        {
          "output_type": "stream",
          "name": "stdout",
          "text": [
            "{'maças': 10, 'bananas': 15, 'laranjas': 8}\n",
            "{'maças': 12, 'bananas': 17, 'laranjas': 14}\n"
          ]
        }
      ]
    },
    {
      "cell_type": "markdown",
      "source": [
        "Começando TUPLA\n"
      ],
      "metadata": {
        "id": "WY5i_nsMU0k7"
      }
    }
  ]
}