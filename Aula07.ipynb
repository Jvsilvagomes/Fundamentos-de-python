{
  "nbformat": 4,
  "nbformat_minor": 0,
  "metadata": {
    "colab": {
      "provenance": [],
      "authorship_tag": "ABX9TyMxl4hq3MdaksPP9NWV9+wd",
      "include_colab_link": true
    },
    "kernelspec": {
      "name": "python3",
      "display_name": "Python 3"
    },
    "language_info": {
      "name": "python"
    }
  },
  "cells": [
    {
      "cell_type": "markdown",
      "metadata": {
        "id": "view-in-github",
        "colab_type": "text"
      },
      "source": [
        "<a href=\"https://colab.research.google.com/github/Jvsilvagomes/Fundamentos-de-python/blob/main/Aula07.ipynb\" target=\"_parent\"><img src=\"https://colab.research.google.com/assets/colab-badge.svg\" alt=\"Open In Colab\"/></a>"
      ]
    },
    {
      "cell_type": "code",
      "execution_count": null,
      "metadata": {
        "colab": {
          "base_uri": "https://localhost:8080/"
        },
        "id": "RgoZKpN_mKcq",
        "outputId": "65610e48-b789-48b2-c762-af99d368eb78"
      },
      "outputs": [
        {
          "output_type": "execute_result",
          "data": {
            "text/plain": [
              "True"
            ]
          },
          "metadata": {},
          "execution_count": 1
        }
      ],
      "source": [
        "# comparação\n",
        "\n",
        "4 == 4"
      ]
    },
    {
      "cell_type": "code",
      "source": [
        "'a' == 7"
      ],
      "metadata": {
        "id": "UmVopGD-nQWe"
      },
      "execution_count": null,
      "outputs": []
    },
    {
      "cell_type": "code",
      "source": [
        "5 == 10/2"
      ],
      "metadata": {
        "id": "RPeeeFqVnSgO"
      },
      "execution_count": null,
      "outputs": []
    },
    {
      "cell_type": "code",
      "source": [
        "5 != 5"
      ],
      "metadata": {
        "id": "rWsZV1bZo9z_"
      },
      "execution_count": null,
      "outputs": []
    },
    {
      "cell_type": "code",
      "source": [
        "'a ' != 'a'"
      ],
      "metadata": {
        "id": "MBW55txMo_te"
      },
      "execution_count": null,
      "outputs": []
    },
    {
      "cell_type": "code",
      "source": [
        "10 != 100/10"
      ],
      "metadata": {
        "id": "BsG8Al6EpDWf"
      },
      "execution_count": null,
      "outputs": []
    },
    {
      "cell_type": "code",
      "source": [
        "10 > 10"
      ],
      "metadata": {
        "id": "0NZoXAUpqg8P"
      },
      "execution_count": null,
      "outputs": []
    },
    {
      "cell_type": "code",
      "source": [
        "10 >= 10"
      ],
      "metadata": {
        "id": "rpUVMoLjqien"
      },
      "execution_count": null,
      "outputs": []
    },
    {
      "cell_type": "code",
      "source": [
        "11 > 0"
      ],
      "metadata": {
        "id": "U53KfRMeqlqW"
      },
      "execution_count": null,
      "outputs": []
    },
    {
      "cell_type": "code",
      "source": [
        "'a' > 'b'"
      ],
      "metadata": {
        "id": "Ztq8BhEtreLf"
      },
      "execution_count": null,
      "outputs": []
    },
    {
      "cell_type": "code",
      "source": [
        "'b' > 'a'"
      ],
      "metadata": {
        "id": "-NsqEOd3riDH"
      },
      "execution_count": null,
      "outputs": []
    },
    {
      "cell_type": "code",
      "source": [
        "# comparadores lógicos\n",
        "A = 4 == 4\n",
        "B = 4 == 4\n",
        "print(A)\n",
        "print(B)\n",
        "\n",
        "A and B"
      ],
      "metadata": {
        "colab": {
          "base_uri": "https://localhost:8080/"
        },
        "id": "F4xUHMUDsol3",
        "outputId": "57622d01-61c9-4fb2-feaa-0ed01b228dd0"
      },
      "execution_count": null,
      "outputs": [
        {
          "output_type": "stream",
          "name": "stdout",
          "text": [
            "True\n",
            "True\n"
          ]
        },
        {
          "output_type": "execute_result",
          "data": {
            "text/plain": [
              "True"
            ]
          },
          "metadata": {},
          "execution_count": 2
        }
      ]
    },
    {
      "cell_type": "code",
      "source": [
        "A =  10 == 10\n",
        "B = 4 > 7\n",
        "\n",
        "print(A)\n",
        "print(B)\n",
        "\n",
        "A or B"
      ],
      "metadata": {
        "colab": {
          "base_uri": "https://localhost:8080/"
        },
        "id": "ZpI3QWnauRtH",
        "outputId": "a425b3f8-451a-4581-f5cc-5a7e612a3d0e"
      },
      "execution_count": null,
      "outputs": [
        {
          "output_type": "stream",
          "name": "stdout",
          "text": [
            "True\n",
            "False\n"
          ]
        },
        {
          "output_type": "execute_result",
          "data": {
            "text/plain": [
              "True"
            ]
          },
          "metadata": {},
          "execution_count": 5
        }
      ]
    },
    {
      "cell_type": "code",
      "source": [
        "print( 4 == 4 )\n",
        "print('-------------')\n",
        "print(not  4 == 4)"
      ],
      "metadata": {
        "colab": {
          "base_uri": "https://localhost:8080/"
        },
        "id": "ubWzkzBovKWI",
        "outputId": "abb9be7a-c4b1-4277-86d8-7435fee60e39"
      },
      "execution_count": null,
      "outputs": [
        {
          "output_type": "stream",
          "name": "stdout",
          "text": [
            "True\n",
            "---------------\n",
            "False\n"
          ]
        }
      ]
    },
    {
      "cell_type": "code",
      "source": [
        "#  IF ELSE\n",
        "\n",
        "idade = 70\n",
        "if idade >= 18 :\n",
        "  print(\"Você é maior da idade\")\n",
        "else:\n",
        "  print(\"Voce não é maior de idade\")"
      ],
      "metadata": {
        "colab": {
          "base_uri": "https://localhost:8080/"
        },
        "id": "uSQVM0ZOv4Ng",
        "outputId": "c64b654b-1c98-4c62-bc23-747484be858d"
      },
      "execution_count": null,
      "outputs": [
        {
          "output_type": "stream",
          "name": "stdout",
          "text": [
            "Você é maior da idade\n"
          ]
        }
      ]
    },
    {
      "cell_type": "code",
      "source": [
        "a = int(input(\"Digite um numero: \"))\n",
        "b = int(input(\"Digite um numero: \"))\n",
        "\n",
        "if a > b :\n",
        "  print(f\"O numero {a} é maior que o {b}\")\n",
        "else:\n",
        "  print(f\"O numero {a} não é maior que o {b}\")"
      ],
      "metadata": {
        "colab": {
          "base_uri": "https://localhost:8080/"
        },
        "id": "-sBYTAqpx4Zw",
        "outputId": "25dea708-bd7b-4573-d3a2-0c073d6a060b"
      },
      "execution_count": null,
      "outputs": [
        {
          "output_type": "stream",
          "name": "stdout",
          "text": [
            "Digite um numero: 200\n",
            "Digite um numero: 1000\n",
            "O numero 200 não é maior que o 1000\n"
          ]
        }
      ]
    },
    {
      "cell_type": "code",
      "source": [
        "a = int(input(\"Digite um numero: \"))\n",
        "b = int(input(\"Digite um numero: \"))\n",
        "\n",
        "if a > b :\n",
        "  print(f\"O numero {a} é maior que o {b}\")\n",
        "elif b > a:\n",
        "  print(f\"O numero {b} é maior que {a}\")\n",
        "else:\n",
        "  print(\"Os numeros são iguais\")"
      ],
      "metadata": {
        "id": "Y7N1S5f9ytIY"
      },
      "execution_count": null,
      "outputs": []
    },
    {
      "cell_type": "code",
      "source": [
        "a = int(input(\"Digite um numero: \"))\n",
        "b = int(input(\"Digite um numero: \"))\n",
        "if a == 2* (b) :\n",
        "  print(f\"A é duas vezes maior que B\")\n",
        "elif a > b:\n",
        "  print(f\"O numero {a} é maior que {b}\")\n",
        "else:\n",
        "  print(\"B é maior que a\")"
      ],
      "metadata": {
        "colab": {
          "base_uri": "https://localhost:8080/"
        },
        "id": "aUint7DU5Dbh",
        "outputId": "e00f494e-e7b5-4550-93c7-572d61dde958"
      },
      "execution_count": null,
      "outputs": [
        {
          "output_type": "stream",
          "name": "stdout",
          "text": [
            "Digite um numero: 10\n",
            "Digite um numero: 5\n",
            "A é duas vezes maior que B\n"
          ]
        }
      ]
    },
    {
      "cell_type": "code",
      "source": [
        "a = int(input(\"Digite um numero: \"))\n",
        "b = int(input(\"Digite um numero: \"))\n",
        "if (a/b) == 2 :\n",
        "  print(f\"A é duas vezes maior que B\")\n",
        "elif a > b:\n",
        "  print(f\"O numero {a} é maior que {b}\")\n",
        "else:\n",
        "  print(\"B é maior que a\")"
      ],
      "metadata": {
        "colab": {
          "base_uri": "https://localhost:8080/"
        },
        "id": "Rd8JJWQ5BYTL",
        "outputId": "890b5ac8-eac4-4d36-a80b-345b5e539c39"
      },
      "execution_count": null,
      "outputs": [
        {
          "output_type": "stream",
          "name": "stdout",
          "text": [
            "Digite um numero: 10\n",
            "Digite um numero: 5\n",
            "A é duas vezes maior que B\n"
          ]
        }
      ]
    },
    {
      "cell_type": "code",
      "source": [
        "numero = int(input(\"digite um numero: \"))\n",
        "\n",
        "if numero  % 2 == 0 :\n",
        "  print(f\"O numero {numero} é par\")\n",
        "else :\n",
        "  print(f\"O numero {numero} é impar\")"
      ],
      "metadata": {
        "colab": {
          "base_uri": "https://localhost:8080/"
        },
        "id": "Onu5nz-lEO8E",
        "outputId": "92895ea2-e498-4913-c123-dcf0e81a6cc6"
      },
      "execution_count": null,
      "outputs": [
        {
          "output_type": "stream",
          "name": "stdout",
          "text": [
            "digite um numero7\n",
            "O numero 7 é impar\n"
          ]
        }
      ]
    },
    {
      "cell_type": "code",
      "source": [
        "idade = int(input(\"Digite sua idade: \"))\n",
        "\n",
        "if idade < 18:\n",
        "  print(\"Você ainda é menor de idade\")\n",
        "elif idade >= 18:\n",
        "  print(\"Você é adulto\")"
      ],
      "metadata": {
        "colab": {
          "base_uri": "https://localhost:8080/"
        },
        "id": "9bUGr-k2I4k1",
        "outputId": "42431cbf-11e4-4984-de91-3bc1c9cddc03"
      },
      "execution_count": null,
      "outputs": [
        {
          "output_type": "stream",
          "name": "stdout",
          "text": [
            "Digite sua idade: 11\n",
            "Você ainda é menor de idade\n"
          ]
        }
      ]
    },
    {
      "cell_type": "code",
      "source": [
        "nota = int(input(\"Digite a nota do aluno: \"))\n",
        "\n",
        "if nota >= 9:\n",
        "  print(\"Sua nota foi: A\")\n",
        "elif nota > 7  & nota < 9:\n",
        "  print(\"Sua nota foi: B\")\n",
        "elif nota > 5 & nota < 7 :\n",
        "  print(\"Sua nota foi: C\")\n",
        "else :\n",
        "  print(\"Sua nota foi: D\")"
      ],
      "metadata": {
        "colab": {
          "base_uri": "https://localhost:8080/"
        },
        "id": "SXjS6ly1KxkW",
        "outputId": "f7369661-3dd9-457d-c869-ae872cefbda6"
      },
      "execution_count": null,
      "outputs": [
        {
          "output_type": "stream",
          "name": "stdout",
          "text": [
            "Digite uma nota: 6\n",
            "Sua nota foi: C\n"
          ]
        }
      ]
    },
    {
      "cell_type": "code",
      "source": [
        "numero = int(input(\"Digite um numero: \"))\n",
        "\n",
        "if numero < 0:\n",
        "  print(f\"O numero {numero} é negativo\")\n",
        "elif numero > 0:\n",
        "  print(f\"O numero {numero} é positivo\")\n",
        "else:\n",
        "  print(f\"O numero é zero \")"
      ],
      "metadata": {
        "colab": {
          "base_uri": "https://localhost:8080/"
        },
        "id": "u8KKHylWRoFH",
        "outputId": "0793ad5d-aeec-4b55-c90e-56b8b283c99d"
      },
      "execution_count": null,
      "outputs": [
        {
          "output_type": "stream",
          "name": "stdout",
          "text": [
            "Digite um numero: 12\n",
            "O numero 12 é positivo\n"
          ]
        }
      ]
    },
    {
      "cell_type": "code",
      "source": [
        "idade = float(input(\"Digite sua idade: \"))\n",
        "\n",
        "if idade > 0 and idade <= 18 :\n",
        "  print(\"Você é criança/adolescente\")\n",
        "elif  idade >= 18 and idade < 65:\n",
        "  print(\"Você é um adulto\")\n",
        "elif idade >= 65 and idade <= 120:\n",
        "  print(\"Você é um idoso\")\n",
        "else:\n",
        "  print(\"Idade inválida\")"
      ],
      "metadata": {
        "colab": {
          "base_uri": "https://localhost:8080/"
        },
        "id": "jB15IL600QOi",
        "outputId": "f43ef0eb-c2c8-4d5d-f829-d3d1cbcf3c9b"
      },
      "execution_count": null,
      "outputs": [
        {
          "output_type": "stream",
          "name": "stdout",
          "text": [
            "Digite sua idade: -10\n",
            "Idade inválida\n"
          ]
        }
      ]
    },
    {
      "cell_type": "code",
      "source": [
        "nacionalidade = input(\"Digite sua nacinalidade (Brasileiro, americano, canadense): \")\n",
        "\n",
        "match nacionalidade:\n",
        "  case \"Brasileiro\":\n",
        "    print(\"Você é do Brasil\")\n",
        "  case \"Americano\":\n",
        "    print(\"Você é dos EUA\")\n",
        "  case \"Canadense\":\n",
        "    print(\"Você é dos Canadá!\")\n",
        "  case _:\n",
        "    print(\"Nacionalidade inválida\")"
      ],
      "metadata": {
        "colab": {
          "base_uri": "https://localhost:8080/"
        },
        "collapsed": true,
        "id": "bISFBMVQ1vO6",
        "outputId": "659a48fd-96ac-44aa-e2a9-451a8d196f65"
      },
      "execution_count": null,
      "outputs": [
        {
          "output_type": "stream",
          "name": "stdout",
          "text": [
            "Digite sua nacinalidade (Brasileiro, americano, canadense): brasileiro\n",
            "Você é do BRASA\n"
          ]
        }
      ]
    },
    {
      "cell_type": "code",
      "source": [
        "dados = [42, \"resposta\"]\n",
        "\n",
        "match dados:\n",
        "  case[int(numero), str(texto)]if numero == 24 and texto == \"resposta\":\n",
        "    print(\"Encontramos a resposta!\")\n",
        "  case _:\n",
        "    print(\"Dados diferentes\")"
      ],
      "metadata": {
        "colab": {
          "base_uri": "https://localhost:8080/"
        },
        "id": "lFn3w6d45U-y",
        "outputId": "83005666-bd8d-44ca-86a7-1cbf09df59e6"
      },
      "execution_count": null,
      "outputs": [
        {
          "output_type": "stream",
          "name": "stdout",
          "text": [
            "Dados diferentes\n"
          ]
        }
      ]
    }
  ]
}