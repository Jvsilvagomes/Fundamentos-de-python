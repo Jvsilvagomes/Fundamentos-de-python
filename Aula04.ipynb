{
  "nbformat": 4,
  "nbformat_minor": 0,
  "metadata": {
    "colab": {
      "provenance": [],
      "authorship_tag": "ABX9TyPM13OvSjrFKPGRBK/4nFno",
      "include_colab_link": true
    },
    "kernelspec": {
      "name": "python3",
      "display_name": "Python 3"
    },
    "language_info": {
      "name": "python"
    }
  },
  "cells": [
    {
      "cell_type": "markdown",
      "metadata": {
        "id": "view-in-github",
        "colab_type": "text"
      },
      "source": [
        "<a href=\"https://colab.research.google.com/github/Jvsilvagomes/Fundamentos-de-python/blob/main/Aula04.ipynb\" target=\"_parent\"><img src=\"https://colab.research.google.com/assets/colab-badge.svg\" alt=\"Open In Colab\"/></a>"
      ]
    },
    {
      "cell_type": "code",
      "source": [
        "# declarando uma lista\n",
        "\n",
        "frutas = ['banana', 'uva', 'manga']\n",
        "\n",
        "print(frutas)\n",
        "print(type(frutas))\n",
        "\n",
        "print(\"\\n\")\n",
        "print(\"----------------------------\")\n",
        "print(\"\\n\")\n",
        "\n",
        "# pegar um item do array pela posicao\n",
        "\n",
        "print(frutas[0])\n",
        "print(\"-------\")\n",
        "print(frutas[1])\n",
        "\n"
      ],
      "metadata": {
        "colab": {
          "base_uri": "https://localhost:8080/"
        },
        "id": "EkyxiQUwxdD2",
        "outputId": "020fc51b-fa10-4927-932d-2432e081a3f8"
      },
      "execution_count": null,
      "outputs": [
        {
          "output_type": "stream",
          "name": "stdout",
          "text": [
            "['banana', 'uva', 'manga']\n",
            "<class 'list'>\n",
            "\n",
            "\n",
            "----------------------------\n",
            "\n",
            "\n",
            "banana\n",
            "-------\n",
            "uva\n"
          ]
        }
      ]
    },
    {
      "cell_type": "code",
      "source": [
        "# declarando outros tipos de na lista\n",
        "\n",
        "a_list = ['banana',None ,'uva', 'goiaba', 5 == 5]\n",
        "\n",
        "print(a_list)\n",
        "print('--------------------------------')\n",
        "\n",
        "#  colocando uma lista de dentro de outro\n",
        "\n",
        "a_lista = [23, None, 3.14, frutas, True]\n",
        "print(a_lista)\n",
        "print('--------------------------------')\n",
        "print(a_lista[3][1])\n",
        "\n"
      ],
      "metadata": {
        "id": "MVTXOPGJ1mfW"
      },
      "execution_count": null,
      "outputs": []
    },
    {
      "cell_type": "code",
      "source": [
        "# criando uma matriz\n",
        "\n",
        "matriz = [\n",
        "    [1, 2, 3],\n",
        "    [4, 5, 6],\n",
        "    [7, 8, 9]\n",
        "]\n",
        "\n",
        "print(matriz[1][2])\n",
        "print(matriz)\n",
        "print(type(matriz))"
      ],
      "metadata": {
        "colab": {
          "base_uri": "https://localhost:8080/"
        },
        "id": "kAbZ6alE6N1X",
        "outputId": "f5b4851b-9733-4c0f-dbba-772245169868"
      },
      "execution_count": null,
      "outputs": [
        {
          "output_type": "stream",
          "name": "stdout",
          "text": [
            "6\n",
            "[[1, 2, 3], [4, 5, 6], [7, 8, 9]]\n",
            "<class 'list'>\n"
          ]
        }
      ]
    },
    {
      "cell_type": "code",
      "source": [
        "# modificando elementos da matriz\n",
        "\n",
        "matriz  [0][0] = 10\n",
        "matriz  [1][2] = 'a'\n",
        "\n",
        "print(matriz)"
      ],
      "metadata": {
        "colab": {
          "base_uri": "https://localhost:8080/"
        },
        "id": "hj_38pV58dDn",
        "outputId": "a3b124ba-7e06-49f3-a24d-02877f2b2bd2"
      },
      "execution_count": null,
      "outputs": [
        {
          "output_type": "stream",
          "name": "stdout",
          "text": [
            "[[10, 2, 3], [4, 5, 'a'], [7, 8, 9]]\n"
          ]
        }
      ]
    },
    {
      "cell_type": "code",
      "source": [
        "# criando uma lista vazia\n",
        "\n",
        "lista_vazia = []\n",
        "print(lista_vazia)\n",
        "\n",
        "# utilizando o len\n",
        "\n",
        "print(len(lista_vazia))\n",
        "print('------------------')\n",
        "print(len(frutas))"
      ],
      "metadata": {
        "colab": {
          "base_uri": "https://localhost:8080/"
        },
        "id": "vVOLMbUV-nTv",
        "outputId": "71095d7a-b9b8-48bb-c1be-81393a844ac6"
      },
      "execution_count": null,
      "outputs": [
        {
          "output_type": "stream",
          "name": "stdout",
          "text": [
            "[]\n",
            "0\n",
            "------------------\n",
            "3\n"
          ]
        }
      ]
    },
    {
      "cell_type": "code",
      "source": [
        "print(a_list)\n",
        "print(\"\\n\")\n",
        "print(a_list[:2])\n",
        "print(\"\\n\")\n",
        "print(a_list[2:4])"
      ],
      "metadata": {
        "colab": {
          "base_uri": "https://localhost:8080/"
        },
        "id": "Kpfhq-gc_uQG",
        "outputId": "817a51c5-a3f1-4f9d-efe6-a809fd597dd2"
      },
      "execution_count": null,
      "outputs": [
        {
          "output_type": "stream",
          "name": "stdout",
          "text": [
            "['banana', None, 'uva', 'goiaba', True]\n",
            "\n",
            "\n",
            "['banana', None]\n",
            "\n",
            "\n",
            "['uva', 'goiaba']\n"
          ]
        }
      ]
    },
    {
      "cell_type": "code",
      "source": [
        "# adicionando um novo item no array\n",
        "frutas = [\"uva\", \"goiaba\", \"manga\"]\n",
        "\n",
        "frutas.insert (1, \"melao\")\n",
        "\n",
        "print(frutas)\n",
        "\n",
        "\n",
        "print(\"-------------------------------\")\n",
        "\n",
        "#  adiciona um novo item no final do array\n",
        "\n",
        "frutas.append('maça')\n",
        "\n",
        "print(frutas)\n"
      ],
      "metadata": {
        "colab": {
          "base_uri": "https://localhost:8080/"
        },
        "id": "hEGiB_jEAyve",
        "outputId": "acabd06c-c7f3-416b-b6ad-f7dbc9e125f9"
      },
      "execution_count": null,
      "outputs": [
        {
          "output_type": "stream",
          "name": "stdout",
          "text": [
            "['uva', 'melao', 'goiaba', 'manga']\n",
            "-------------------------------\n",
            "['uva', 'melao', 'goiaba', 'manga', 'maça']\n"
          ]
        }
      ]
    },
    {
      "cell_type": "code",
      "source": [
        "# usado para estender uma lista ao add elementos de outras listas\n",
        "frutas_adicionais = ['caju', 'morango', 'abacaxi']\n",
        "\n",
        "# estendendo\n",
        "frutas.extend(frutas_adicionais)\n",
        "\n",
        "\n",
        "print(frutas)"
      ],
      "metadata": {
        "colab": {
          "base_uri": "https://localhost:8080/"
        },
        "id": "c736d3nIGfKG",
        "outputId": "ac595f04-b369-4e0e-a143-445ba1886464"
      },
      "execution_count": null,
      "outputs": [
        {
          "output_type": "stream",
          "name": "stdout",
          "text": [
            "['uva', 'melao', 'goiaba', 'manga', 'maça', 'caju', 'morango', 'abacaxi']\n"
          ]
        }
      ]
    },
    {
      "cell_type": "code",
      "source": [
        "frutas.append(['melancia',  'mamao'])\n",
        "print(frutas)"
      ],
      "metadata": {
        "colab": {
          "base_uri": "https://localhost:8080/"
        },
        "id": "MLmAtSDdItlG",
        "outputId": "e7dec6d7-0918-42ec-a4cd-1416ce88d47c"
      },
      "execution_count": null,
      "outputs": [
        {
          "output_type": "stream",
          "name": "stdout",
          "text": [
            "['uva', 'melao', 'goiaba', 'manga', 'maça', 'caju', 'morango', 'abacaxi', ['melancia', 'mamao'], ['melancia', 'mamao']]\n"
          ]
        }
      ]
    },
    {
      "cell_type": "code",
      "source": [
        "# removendo itens do array\n",
        "numeros = [1, 2, 3, 4, 5, 6]\n",
        "\n",
        "# removendo o ultimo\n",
        "numeros.remove(3)\n",
        "\n",
        "print(numeros)\n",
        "\n",
        "print(\"---------------------------\")\n",
        "# removendo o ultimo com o pop()\n",
        "\n",
        "print(numeros)\n",
        "numeros_removidos = numeros.pop()\n",
        "print(\"-----------------\")\n",
        "print(numeros)\n",
        "print(numeros_removidos)\n"
      ],
      "metadata": {
        "colab": {
          "base_uri": "https://localhost:8080/"
        },
        "id": "cK663M3fJ1A2",
        "outputId": "00c7bca6-54bb-4066-8334-4434cd24d7eb"
      },
      "execution_count": null,
      "outputs": [
        {
          "output_type": "stream",
          "name": "stdout",
          "text": [
            "[1, 2, 4, 5, 6]\n",
            "---------------------------\n",
            "[1, 2, 4, 5, 6]\n",
            "-----------------\n",
            "[1, 2, 4, 5]\n",
            "6\n"
          ]
        }
      ]
    },
    {
      "cell_type": "code",
      "source": [
        "cores = ['amarelo', 'vermelho', 'verde']\n",
        "mais_cores = cores + ['azul'] + ['preto', 'branco']\n",
        "print(mais_cores)\n"
      ],
      "metadata": {
        "colab": {
          "base_uri": "https://localhost:8080/"
        },
        "id": "twN298qFL9zW",
        "outputId": "a8317228-9148-400d-8ed8-520c76b1f5c3"
      },
      "execution_count": null,
      "outputs": [
        {
          "output_type": "stream",
          "name": "stdout",
          "text": [
            "['amarelo', 'vermelho', 'verde', 'azul', 'preto', 'branco']\n"
          ]
        }
      ]
    },
    {
      "cell_type": "code",
      "source": [
        "# copiando dados de um array\n",
        "\n",
        "mais_cores_copia = mais_cores.copy()\n",
        "\n",
        "print(mais_cores_copia)\n",
        "print('-------------------------------------------')\n",
        "\n",
        "# modificar a lista\n",
        "\n",
        "mais_cores_copia.remove('azul')\n",
        "mais_cores_copia.pop()\n",
        "print(mais_cores_copia)\n",
        "print(mais_cores)"
      ],
      "metadata": {
        "colab": {
          "base_uri": "https://localhost:8080/"
        },
        "id": "2Koqhv3zPm_O",
        "outputId": "93024745-646f-427a-8a0c-7bf99814f994"
      },
      "execution_count": null,
      "outputs": [
        {
          "output_type": "stream",
          "name": "stdout",
          "text": [
            "['amarelo', 'vermelho', 'verde', 'azul', 'preto', 'branco']\n",
            "-------------------------------------------\n",
            "['amarelo', 'vermelho', 'verde', 'preto']\n",
            "['amarelo', 'vermelho', 'verde', 'azul', 'preto', 'branco']\n"
          ]
        }
      ]
    }
  ]
}