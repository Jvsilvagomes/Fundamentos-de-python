{
  "nbformat": 4,
  "nbformat_minor": 0,
  "metadata": {
    "colab": {
      "provenance": [],
      "authorship_tag": "ABX9TyOfxI2E/Lo5nQvlWcm+ssw3",
      "include_colab_link": true
    },
    "kernelspec": {
      "name": "python3",
      "display_name": "Python 3"
    },
    "language_info": {
      "name": "python"
    }
  },
  "cells": [
    {
      "cell_type": "markdown",
      "metadata": {
        "id": "view-in-github",
        "colab_type": "text"
      },
      "source": [
        "<a href=\"https://colab.research.google.com/github/Jvsilvagomes/Fundamentos-de-python/blob/main/Aula06.ipynb\" target=\"_parent\"><img src=\"https://colab.research.google.com/assets/colab-badge.svg\" alt=\"Open In Colab\"/></a>"
      ]
    },
    {
      "cell_type": "markdown",
      "source": [
        "Começando Tupla"
      ],
      "metadata": {
        "id": "oYIMcw43VGz8"
      }
    },
    {
      "cell_type": "code",
      "execution_count": null,
      "metadata": {
        "id": "SkzNvl4VVDjI"
      },
      "outputs": [],
      "source": [
        "# criação da tupla\n",
        "\n",
        "frutas = ('banana', 'uva', 'laranja')\n",
        "print(frutas)\n",
        "print(type(frutas))\n",
        "print('-----------------------------------')\n",
        "# contando elementos detro de uma lista\n",
        "\n",
        "len(frutas) # no Js usamos o length\n",
        "\n",
        "# pegar o primeiro e ultimo item\n",
        "\n",
        "print(frutas[0])\n",
        "print(frutas[-1])\n"
      ]
    },
    {
      "cell_type": "code",
      "source": [
        "# inserir um novo item\n",
        "frutas.append('tomate')\n",
        "print(frutas)\n",
        "\n",
        "# deletando um item da tupla\n",
        "\n",
        "del frutas[0]\n"
      ],
      "metadata": {
        "id": "W3OxTbynXFvc"
      },
      "execution_count": null,
      "outputs": []
    },
    {
      "cell_type": "code",
      "source": [
        "tupla_del = ('a',1,2,3,'b')\n",
        "print(tupla_del)\n",
        "\n",
        "del tupla_del\n",
        "print(tupla_del) # vai dar erro pois a tupla estara apagada\n",
        "\n",
        "# nao é possivel apagar apenas um item da tupla mas sim apagar uma inteira"
      ],
      "metadata": {
        "id": "BqWk-4uXZsBL"
      },
      "execution_count": null,
      "outputs": []
    },
    {
      "cell_type": "code",
      "source": [
        "# Transformando uma tupla em uma lista\n",
        "minha_tupla = (1, 2, 3)\n",
        "lista_resultante = list(minha_tupla)\n",
        "\n",
        "print(lista_resultante) #Output :[1,2,3]\n",
        "print(type(lista_resultante))"
      ],
      "metadata": {
        "id": "R3JQo_48aUEb"
      },
      "execution_count": null,
      "outputs": []
    },
    {
      "cell_type": "code",
      "source": [
        "# transformando uma lista em tupla\n",
        "minha_lista = [1, 2, 3]\n",
        "tupla_resultante = tuple(minha_lista)\n",
        "print(tupla_resultante)"
      ],
      "metadata": {
        "id": "JZfB_IXsbecj"
      },
      "execution_count": null,
      "outputs": []
    },
    {
      "cell_type": "code",
      "source": [
        "tuple_dados = (123, 'numeros', 1.3, True)\n",
        "print(tuple_dados)\n",
        "print(type(tuple_dados))"
      ],
      "metadata": {
        "id": "Ita0i9rwdp2S"
      },
      "execution_count": null,
      "outputs": []
    },
    {
      "cell_type": "code",
      "source": [
        "frutas = ('maça','abacaxi','caju')\n",
        "print(frutas)\n",
        "print(type(frutas))\n",
        "fruta_adicional = list(frutas) # transformando a tupla em lista\n",
        "fruta_adicional.append('tomate') # adicionei um novo item\n",
        "fruta_adicional = tuple(fruta_adicional) # voltei a lista para tupla\n",
        "print(fruta_adicional)\n",
        "print(type(fruta_adicional))"
      ],
      "metadata": {
        "id": "dMcuJ7hYfRJq"
      },
      "execution_count": null,
      "outputs": []
    }
  ]
}