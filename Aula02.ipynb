{
  "nbformat": 4,
  "nbformat_minor": 0,
  "metadata": {
    "colab": {
      "provenance": [],
      "authorship_tag": "ABX9TyN34+VuoKCyX9aj2eUd6sEs",
      "include_colab_link": true
    },
    "kernelspec": {
      "name": "python3",
      "display_name": "Python 3"
    },
    "language_info": {
      "name": "python"
    }
  },
  "cells": [
    {
      "cell_type": "markdown",
      "metadata": {
        "id": "view-in-github",
        "colab_type": "text"
      },
      "source": [
        "<a href=\"https://colab.research.google.com/github/Jvsilvagomes/Fundamentos-de-python/blob/main/Aula02.ipynb\" target=\"_parent\"><img src=\"https://colab.research.google.com/assets/colab-badge.svg\" alt=\"Open In Colab\"/></a>"
      ]
    },
    {
      "cell_type": "markdown",
      "source": [
        "Ver versão do python"
      ],
      "metadata": {
        "id": "KSw3F_zdD5ac"
      }
    },
    {
      "cell_type": "code",
      "source": [
        "'''\n",
        "código para verificar a versão do python\n",
        "'''\n",
        "!python -V"
      ],
      "metadata": {
        "id": "h_YjVom94Oj8"
      },
      "execution_count": null,
      "outputs": []
    },
    {
      "cell_type": "markdown",
      "source": [
        "Calculadora simples"
      ],
      "metadata": {
        "id": "5zm3k9RzD3F8"
      }
    },
    {
      "cell_type": "code",
      "source": [
        "# calculadora\n",
        "\n",
        "#soma\n",
        "\n",
        "print(4 + 4)\n",
        "\n",
        "#subtração\n",
        "\n",
        "print(5 - 3)\n",
        "\n",
        "#multiplicação\n",
        "\n",
        "print(5 * 3)\n",
        "\n",
        "#Divisão\n",
        "\n",
        "print(20 / 5)\n",
        "\n",
        "#potencia\n",
        "\n",
        "print(3 ** 3)\n",
        "\n",
        "#modulo\n",
        "\n",
        "print(20 % 2)\n"
      ],
      "metadata": {
        "id": "bMX4yLiR8oik"
      },
      "execution_count": null,
      "outputs": []
    },
    {
      "cell_type": "markdown",
      "source": [
        "Vendo tipos de dados"
      ],
      "metadata": {
        "id": "5AONxO0TDzSM"
      }
    },
    {
      "cell_type": "code",
      "source": [
        "# Vendo tipos de dados usando o - type -\n",
        "\n",
        "print (type(5))\n",
        "\n",
        "print (type(1.86))\n",
        "\n",
        "print (type('w'))\n",
        "\n",
        "print (type('python'))\n",
        "\n",
        "print (type (true))\n"
      ],
      "metadata": {
        "id": "C9U7OA97AP9c"
      },
      "execution_count": null,
      "outputs": []
    },
    {
      "cell_type": "markdown",
      "source": [
        "Aprendendo  funções internas usadas para operações"
      ],
      "metadata": {
        "id": "N2RcNgG0D9JU"
      }
    },
    {
      "cell_type": "code",
      "source": [
        "# Usando o - round - conseguimos arredondar o valor\n",
        "\n",
        "print(round(10.23735,3))\n",
        "\n",
        "# Usando o - pow - conseguimos ver a potencia dos dois numeros\n",
        "\n",
        "print(pow(2,3))"
      ],
      "metadata": {
        "id": "GNfLDwlYBM38"
      },
      "execution_count": null,
      "outputs": []
    },
    {
      "cell_type": "markdown",
      "source": [
        "Variaveis"
      ],
      "metadata": {
        "id": "9g6R9y9QEIFs"
      }
    },
    {
      "cell_type": "code",
      "source": [
        "# com Variaveis\n",
        "\n",
        "velocidade = 10\n",
        "tempo = 5\n",
        "\n",
        "print (velocidade)\n",
        "\n",
        "print (tempo)"
      ],
      "metadata": {
        "id": "9y1NAoZIB48d"
      },
      "execution_count": null,
      "outputs": []
    },
    {
      "cell_type": "code",
      "source": [
        "#sem variaveis\n",
        "print(\"Não usando variavel\")\n",
        "print(10 * 5)\n",
        "\n",
        "\n",
        "print(\"----------------\")\n",
        "\n",
        "\n",
        "#com variavel\n",
        "print(\"Usando variavel\")\n",
        "velocidade = 10\n",
        "tempo = 5\n",
        "distancia = velocidade * tempo\n",
        "\n",
        "print(distancia)"
      ],
      "metadata": {
        "id": "WStgcRVZC2dU"
      },
      "execution_count": null,
      "outputs": []
    },
    {
      "cell_type": "markdown",
      "source": [
        "Tipagem"
      ],
      "metadata": {
        "id": "MOsam7HbE4uU"
      }
    },
    {
      "cell_type": "code",
      "source": [
        "#Exemplo de tipagem dinâmica\n",
        "\n",
        "x = 10 # x é um inteiro\n",
        "print (x)\n",
        "print(type(x))\n",
        "\n",
        "print(\"---------------\")\n",
        "\n",
        "x = \"hello\" # x agora é uma string\n",
        "print(x)\n",
        "print(type(x))"
      ],
      "metadata": {
        "id": "AbnvR0tuDwvE"
      },
      "execution_count": null,
      "outputs": []
    },
    {
      "cell_type": "code",
      "source": [
        "cidade1, cidade2, cidade3 = 'São Paulo', 'Rio de Janeiro', 'Belo Horizonte'\n",
        "\n",
        "print(cidade1)\n",
        "print(cidade2)\n",
        "print(cidade3)"
      ],
      "metadata": {
        "id": "4ls3JmBgHEhs"
      },
      "execution_count": null,
      "outputs": []
    },
    {
      "cell_type": "code",
      "source": [
        "resultado = velocidade * 10\n",
        "print(resultado)"
      ],
      "metadata": {
        "id": "qz13VZWkICOV"
      },
      "execution_count": null,
      "outputs": []
    },
    {
      "cell_type": "code",
      "source": [
        "velocidade + (4 * resultado) - distancia"
      ],
      "metadata": {
        "id": "G96YTE3aIor9"
      },
      "execution_count": null,
      "outputs": []
    },
    {
      "cell_type": "markdown",
      "source": [
        "concatenação"
      ],
      "metadata": {
        "id": "bdmYEdcdJ00F"
      }
    },
    {
      "cell_type": "code",
      "source": [
        "# concatenar variaveis\n",
        "\n",
        "primeiro_nome = \"João \"\n",
        "segundo_nome = \"Victor \"\n",
        "terceiro_nome = \"Silva \"\n",
        "quarto_nome = \"Gomes\"\n",
        "\n",
        "nome_completo = primeiro_nome + segundo_nome + terceiro_nome + quarto_nome\n",
        "print(nome_completo)\n",
        "print(type(nome_completo))"
      ],
      "metadata": {
        "colab": {
          "base_uri": "https://localhost:8080/"
        },
        "collapsed": true,
        "id": "J3RsS9O1JKUU",
        "outputId": "5b3f3d73-3c25-4661-8470-a3be24ff7414"
      },
      "execution_count": null,
      "outputs": [
        {
          "output_type": "stream",
          "name": "stdout",
          "text": [
            "João Victor Silva Gomes\n"
          ]
        }
      ]
    },
    {
      "cell_type": "markdown",
      "source": [
        "Desafio:\n"
      ],
      "metadata": {
        "id": "oVldQ7XlK979"
      }
    },
    {
      "cell_type": "code",
      "source": [
        "a = 10\n",
        "b = 20\n",
        "\n",
        "soma = a + b\n",
        "\n",
        "print(soma)"
      ],
      "metadata": {
        "colab": {
          "base_uri": "https://localhost:8080/"
        },
        "id": "zIyhUxtuKdLV",
        "outputId": "9ad90d68-5b50-4d51-a7cd-521c61ab55c1"
      },
      "execution_count": null,
      "outputs": [
        {
          "output_type": "stream",
          "name": "stdout",
          "text": [
            "30\n"
          ]
        }
      ]
    },
    {
      "cell_type": "code",
      "source": [
        "celcius = 25\n",
        "fahrenheit = (celcius*9/5)+ 32\n",
        "\n",
        "print(\"A temperatura de\", str(celcius), \"graus é igual a\", str(fahrenheit), \"graus fahrenheit.\")"
      ],
      "metadata": {
        "colab": {
          "base_uri": "https://localhost:8080/"
        },
        "id": "zheVhX1MPFRW",
        "outputId": "c3f06488-ab1e-47ad-ec79-d15a263e9666"
      },
      "execution_count": null,
      "outputs": [
        {
          "output_type": "stream",
          "name": "stdout",
          "text": [
            "A temperatura de 25 graus é igual a 77.0 graus fahrenheit.\n"
          ]
        }
      ]
    },
    {
      "cell_type": "code",
      "source": [
        "salario_bruto = 3000\n",
        "inss = 0.08 * 3000\n",
        "liquido = salario_bruto - inss\n",
        "\n",
        "print(\"Salario bruto é de R$\", str(salario_bruto))\n",
        "print(\"O desconto do inss é de R$\", str(inss))\n",
        "print(\"O salario pós desconto é de R$\",str(liquido))\n",
        "\n",
        "print(\"-------------------------------------------------------------------------------------------------\")\n",
        "\n",
        "print(\"O salario bruto é de R$\", salario_bruto, \"o desconto do inss é de R$\", inss, \"o salario liquidado é de R$\", liquido)"
      ],
      "metadata": {
        "colab": {
          "base_uri": "https://localhost:8080/"
        },
        "id": "5H5JbuHVPxEN",
        "outputId": "f0a2eacb-235f-40e3-c916-de7c49b41d11"
      },
      "execution_count": null,
      "outputs": [
        {
          "output_type": "stream",
          "name": "stdout",
          "text": [
            "Salario bruto é de R$ 3000\n",
            "O desconto do inss é de R$ 240.0\n",
            "O salario pós desconto é de R$ 2760.0\n",
            "-------------------------------------------------------------------------------------------------\n",
            "O salario bruto é de R$ 3000 o desconto do inss é de R$ 240.0 o salario liquidado é de R$ 2760.0\n"
          ]
        }
      ]
    },
    {
      "cell_type": "code",
      "source": [
        "nome = \"joão\"\n",
        "\n",
        "print(\"Seja bem-vindo\", nome)"
      ],
      "metadata": {
        "colab": {
          "base_uri": "https://localhost:8080/"
        },
        "id": "shNPFFx-Zoyu",
        "outputId": "03de72b9-c035-47ea-f86a-334d16fd4180"
      },
      "execution_count": null,
      "outputs": [
        {
          "output_type": "stream",
          "name": "stdout",
          "text": [
            "Seja bem-vindo joão\n"
          ]
        }
      ]
    },
    {
      "cell_type": "code",
      "source": [
        "esporte_favorito = \"volei\"\n",
        "pessoa = \"joão\"\n",
        "idade = 16\n",
        "print(\"Olá sou o \", pessoa, \"tenho \",idade ,\"anos e meu esporte favorito é\", esporte_favorito)"
      ],
      "metadata": {
        "colab": {
          "base_uri": "https://localhost:8080/"
        },
        "id": "xZI7uJ65aQtf",
        "outputId": "e270d0de-d8e6-4493-dc0b-5ac02e8a9d98"
      },
      "execution_count": null,
      "outputs": [
        {
          "output_type": "stream",
          "name": "stdout",
          "text": [
            "Olá sou o  joão tenho  16 anos e meu esporte favorito é volei\n"
          ]
        }
      ]
    },
    {
      "cell_type": "code",
      "source": [
        "custo = 5000\n",
        "pessoas = 29\n",
        "valor_passagem = 200\n",
        "\n",
        "multiplicação = valor_passagem * pessoas\n",
        "lucro = multiplicação - custo\n",
        "\n",
        "print(\"O lucro da empresa será de R$\", lucro)"
      ],
      "metadata": {
        "colab": {
          "base_uri": "https://localhost:8080/"
        },
        "id": "6xeuDtr8a2M1",
        "outputId": "556f0471-ef37-4b7f-9377-21c87d41e0c1"
      },
      "execution_count": null,
      "outputs": [
        {
          "output_type": "stream",
          "name": "stdout",
          "text": [
            "O lucro da empresa será de R$ 800\n"
          ]
        }
      ]
    },
    {
      "cell_type": "code",
      "source": [
        "camiseta = 25 #preço camiseta\n",
        "vendas = 50 #meta de vendas\n",
        "\n",
        "arrecadado = vendas * camiseta\n",
        "\n",
        "print(\"O total arrecadado pela turma é de R$\", arrecadado)"
      ],
      "metadata": {
        "colab": {
          "base_uri": "https://localhost:8080/"
        },
        "id": "gBMtRu74bhz2",
        "outputId": "3163c4a4-4361-4b34-8b07-1d1250fac355"
      },
      "execution_count": null,
      "outputs": [
        {
          "output_type": "stream",
          "name": "stdout",
          "text": [
            "O total arrecadado pela turma é de R$ 1250\n"
          ]
        }
      ]
    }
  ]
}