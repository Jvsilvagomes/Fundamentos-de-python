{
  "nbformat": 4,
  "nbformat_minor": 0,
  "metadata": {
    "colab": {
      "provenance": [],
      "authorship_tag": "ABX9TyOhRbXUSVDlcD7MG9EPjqvV",
      "include_colab_link": true
    },
    "kernelspec": {
      "name": "python3",
      "display_name": "Python 3"
    },
    "language_info": {
      "name": "python"
    }
  },
  "cells": [
    {
      "cell_type": "markdown",
      "metadata": {
        "id": "view-in-github",
        "colab_type": "text"
      },
      "source": [
        "<a href=\"https://colab.research.google.com/github/Jvsilvagomes/Fundamentos-de-python/blob/main/Aula03.ipynb\" target=\"_parent\"><img src=\"https://colab.research.google.com/assets/colab-badge.svg\" alt=\"Open In Colab\"/></a>"
      ]
    },
    {
      "cell_type": "markdown",
      "source": [
        "Declarando uma String"
      ],
      "metadata": {
        "id": "UNPDjjUCn3PK"
      }
    },
    {
      "cell_type": "code",
      "source": [
        "dia_da_semana = 'Segunda-feira'\n",
        "mes = \"janeiro\"\n",
        "\n",
        "print(dia_da_semana)\n",
        "print(mes)"
      ],
      "metadata": {
        "id": "n2dWsJoRnWwv"
      },
      "execution_count": null,
      "outputs": []
    },
    {
      "cell_type": "markdown",
      "source": [
        "\n",
        "\n",
        "Usando a função do len\n",
        "\n",
        "\n",
        "\n",
        "*  conta os numreos de caracteres em uma string\n",
        "\n"
      ],
      "metadata": {
        "id": "w0IjRM6doJHR"
      }
    },
    {
      "cell_type": "code",
      "source": [
        "print(len(dia_da_semana))\n",
        "print(len(mes))"
      ],
      "metadata": {
        "id": "g5czhWSsobXh"
      },
      "execution_count": null,
      "outputs": []
    },
    {
      "cell_type": "code",
      "source": [
        "# primeira letra da string\n",
        "\n",
        "print(dia_da_semana[0])\n",
        "\n",
        "# ultima letra da string\n",
        "\n",
        "print(dia_da_semana[-1])\n",
        "\n",
        "# pedaço do texto\n",
        "\n",
        "print(dia_da_semana[0:4])"
      ],
      "metadata": {
        "id": "0IJjEApro9vB"
      },
      "execution_count": null,
      "outputs": []
    },
    {
      "cell_type": "markdown",
      "source": [
        "\n",
        "\n",
        "---\n",
        "\n",
        "\n",
        "Juntando o texto - concatenação"
      ],
      "metadata": {
        "id": "3oORFqTpqFqg"
      }
    },
    {
      "cell_type": "code",
      "source": [
        "# juntar o texto\n",
        "\n",
        "print(dia_da_semana + 'é tristeza!!!')"
      ],
      "metadata": {
        "id": "Yo0jIKadqHlI"
      },
      "execution_count": null,
      "outputs": []
    },
    {
      "cell_type": "markdown",
      "source": [
        "Substituição de palavras"
      ],
      "metadata": {
        "id": "aB3qpuaWuzXp"
      }
    },
    {
      "cell_type": "code",
      "source": [
        "nome = 'João'\n",
        "frase = nome + ' é um desemvolvedor junior 1'\n",
        "\n",
        "print('------------------------------------------')\n",
        "\n",
        "print(frase.replace('junior 1', 'pleno 2'))\n",
        "print(frase)\n",
        "\n",
        "print('------------------------------------------')\n",
        "\n",
        "print(frase.replace('junior', 'pleno').replace('1', '3'))"
      ],
      "metadata": {
        "colab": {
          "base_uri": "https://localhost:8080/"
        },
        "id": "uajd6ZPfuHdY",
        "outputId": "37e61fa1-ed03-485f-82de-cb148f696a63"
      },
      "execution_count": null,
      "outputs": [
        {
          "output_type": "stream",
          "name": "stdout",
          "text": [
            "------------------------------------------\n",
            "João é um desemvolvedor pleno 2\n",
            "João é um desemvolvedor junior 1\n",
            "------------------------------------------\n",
            "João é um desemvolvedor pleno 3\n"
          ]
        }
      ]
    },
    {
      "cell_type": "code",
      "source": [
        "email = '@EMPRESAANTIGA.COM'\n",
        "\n",
        "print('------------------------------')\n",
        "print(email.lower())\n",
        "\n",
        "print(email.replace('@EMPRESAANTIGA.COM', '@empresanova.com').lower())"
      ],
      "metadata": {
        "id": "ey1P4XiQwu7R"
      },
      "execution_count": null,
      "outputs": []
    },
    {
      "cell_type": "markdown",
      "source": [
        "deixando a string minuscula, maiúscula e deixando apenas a primeira letra maiúscula"
      ],
      "metadata": {
        "id": "JDcex7Wo0cpo"
      }
    },
    {
      "cell_type": "code",
      "source": [
        "print(dia_da_semana.lower())\n",
        "print(dia_da_semana.upper())\n",
        "print(dia_da_semana.capitalize())"
      ],
      "metadata": {
        "id": "TbDL443_x9nS"
      },
      "execution_count": null,
      "outputs": []
    },
    {
      "cell_type": "markdown",
      "source": [
        "contando a quantidade de letras"
      ],
      "metadata": {
        "id": "B0QrIPFYyae5"
      }
    },
    {
      "cell_type": "code",
      "source": [
        "print(frase)\n",
        "print(frase.count('o'))"
      ],
      "metadata": {
        "id": "CdYG4yAzz7_R"
      },
      "execution_count": null,
      "outputs": []
    },
    {
      "cell_type": "markdown",
      "source": [
        "quebra de texto / separando palavras\n",
        "\n",
        "\n",
        "\n"
      ],
      "metadata": {
        "id": "-YXLmjIs0oIY"
      }
    },
    {
      "cell_type": "code",
      "source": [
        "# quebra de texto\n",
        "\n",
        "frase ='A segunda acabaou!'\n",
        "print(frase)\n",
        "print(type(frase))\n",
        "\n",
        "frase_split = frase.split(' ')\n",
        "print(frase_split)\n",
        "print(type(frase_split))\n",
        "\n",
        "print('-------------------------------')\n",
        "\n",
        "# remover espaço no inicio e no final\n",
        "\n",
        "frase_strip = frase.strip()\n",
        "print(frase_split)\n",
        "frase_split = frase_strip.split(' ')\n",
        "print(frase_split)\n",
        "print(type(frase_split))\n"
      ],
      "metadata": {
        "id": "5eljaqC_1CLw"
      },
      "execution_count": null,
      "outputs": []
    },
    {
      "cell_type": "markdown",
      "source": [
        "separando as string com /n"
      ],
      "metadata": {
        "id": "sL6Al4u59JO4"
      }
    },
    {
      "cell_type": "code",
      "source": [
        "print('O texto começa na primeira linha \\n continua na segunda linha')\n",
        "\n",
        "print('\\n')\n",
        "print('\\n')\n",
        "print('\\n')\n",
        "\n",
        "print('pulei 3 linhas')"
      ],
      "metadata": {
        "colab": {
          "base_uri": "https://localhost:8080/"
        },
        "id": "mItTTHWK9L1I",
        "outputId": "d200b265-12a5-4135-a26d-e8b8b7d8603d"
      },
      "execution_count": null,
      "outputs": [
        {
          "output_type": "stream",
          "name": "stdout",
          "text": [
            "O texto começa na primeira linha \n",
            " continua na segunda linha\n",
            "\n",
            "\n",
            "\n",
            "\n",
            "\n",
            "\n",
            "pulei 3 linhas\n"
          ]
        }
      ]
    },
    {
      "cell_type": "code",
      "source": [
        "nome = 'joao'\n",
        "idade = 16\n",
        "\n",
        "print('Olá, ' + nome + '! você tem ' + str(idade) +  ' anos')"
      ],
      "metadata": {
        "colab": {
          "base_uri": "https://localhost:8080/"
        },
        "id": "gEf51u5FAfSA",
        "outputId": "3bd413e6-1a74-43a2-fabc-176ebf3e8ee1"
      },
      "execution_count": null,
      "outputs": [
        {
          "output_type": "stream",
          "name": "stdout",
          "text": [
            "Olá, joao! você tem 16 anos\n"
          ]
        }
      ]
    },
    {
      "cell_type": "code",
      "source": [
        "nome = 'joao'\n",
        "idade = 16\n",
        "\n",
        "print('Olá, %s Você tem %d anos.' % (nome, idade))"
      ],
      "metadata": {
        "colab": {
          "base_uri": "https://localhost:8080/"
        },
        "id": "YCQLwsjjA0Ow",
        "outputId": "185a21fd-a835-462b-b68e-6ecdaa671fae"
      },
      "execution_count": null,
      "outputs": [
        {
          "output_type": "stream",
          "name": "stdout",
          "text": [
            "Olá, joao Você tem 16 anos.\n"
          ]
        }
      ]
    },
    {
      "cell_type": "code",
      "source": [
        "nome = 'joao'\n",
        "idade = 16\n",
        "\n",
        "print('Olá, {}! Você tem {} anos.'.format(nome, idade))"
      ],
      "metadata": {
        "colab": {
          "base_uri": "https://localhost:8080/"
        },
        "id": "1rexRWDLDiP_",
        "outputId": "9d546788-d1de-48ba-a359-3b54bcd69884"
      },
      "execution_count": null,
      "outputs": [
        {
          "output_type": "stream",
          "name": "stdout",
          "text": [
            "Olá, joao! Você tem 16 anos.\n"
          ]
        }
      ]
    },
    {
      "cell_type": "code",
      "source": [
        "nome = 'joao'\n",
        "idade = 16\n",
        "print(f'Olá, {nome}! Você tem {idade} anos.')"
      ],
      "metadata": {
        "colab": {
          "base_uri": "https://localhost:8080/"
        },
        "id": "vEH6nP8rELkH",
        "outputId": "efcc4845-cdaf-427f-f68b-0d59ac9da9b1"
      },
      "execution_count": null,
      "outputs": [
        {
          "output_type": "stream",
          "name": "stdout",
          "text": [
            "Olá, joao! Você tem 16 anos.\n"
          ]
        }
      ]
    },
    {
      "cell_type": "code",
      "source": [
        "nome = input(\"Digite seu nome: \")\n",
        "\n",
        "print('Olá, ' + nome + ' Sejá bem-vindo!.')"
      ],
      "metadata": {
        "colab": {
          "base_uri": "https://localhost:8080/"
        },
        "id": "VtVaXrthFr6w",
        "outputId": "e7ece4f0-ce3c-4c9c-c7f2-a5e2b1dc0493"
      },
      "execution_count": null,
      "outputs": [
        {
          "output_type": "stream",
          "name": "stdout",
          "text": [
            "Digite seu nome: joao\n",
            "Olá, joao Sejá bem-vindo!.\n"
          ]
        }
      ]
    },
    {
      "cell_type": "code",
      "source": [
        "frase = input(\"Frase:\")\n",
        "print(f\"A ultima letra da frase é : {frase[-1]}\")"
      ],
      "metadata": {
        "colab": {
          "base_uri": "https://localhost:8080/"
        },
        "id": "3w1Qo1_HGjJA",
        "outputId": "2acf86a7-def8-4eb9-9bf9-95e9265c3f23"
      },
      "execution_count": null,
      "outputs": [
        {
          "output_type": "stream",
          "name": "stdout",
          "text": [
            "Frase:Santástico\n",
            "A ultima letra da frase é : o\n"
          ]
        }
      ]
    },
    {
      "cell_type": "code",
      "source": [
        "nome = input(\"Digite o seu primeiro nome:  \")\n",
        "sobrenome = input(\"Digite o seu sobrenome:  \")\n",
        "nome_completo = nome + \" \" + sobrenome\n",
        "\n",
        "idade = input(\"Digite sua idade: \")\n",
        "\n",
        "print(f\"O seu nome é {nome_completo} e você tem {idade} anos.\")"
      ],
      "metadata": {
        "colab": {
          "base_uri": "https://localhost:8080/"
        },
        "id": "yPuYpQOkJq4u",
        "outputId": "b1869ad7-be0c-4da6-9606-b2fe6d854412"
      },
      "execution_count": null,
      "outputs": [
        {
          "output_type": "stream",
          "name": "stdout",
          "text": [
            "Digite o seu primeiro nome:  joao\n",
            "Digite o seu sobrenome:  victor\n",
            "Digite sua idade 16\n",
            "O seu nome é joao victor e você tem 16 anos.\n"
          ]
        }
      ]
    },
    {
      "cell_type": "code",
      "source": [
        "frase = input('Informe a frase: ')\n",
        "antiga_palavra = input('Palavra antiga: ')\n",
        "Palavra_nova = input('Palavra nova: ')\n",
        "print('\\n')\n",
        "print('Com a palavra antiga')\n",
        "print(f\"{frase} \\n\")\n",
        "\n",
        "print('---------------------------------')\n",
        "\n",
        "print('Agora com a nova palavra \\n')\n",
        "print(frase.replace(antiga_palavra, Palavra_nova))"
      ],
      "metadata": {
        "colab": {
          "base_uri": "https://localhost:8080/"
        },
        "id": "a65euvscMJlX",
        "outputId": "da772759-4ac3-4d5a-a8ce-fd84f2dcd505"
      },
      "execution_count": null,
      "outputs": [
        {
          "output_type": "stream",
          "name": "stdout",
          "text": [
            "Informe a frase: Eu gosto de programar em java!\n",
            "Palavra antiga: java\n",
            "Palavra nova: python\n",
            "Com a palavra antiga\n",
            "Eu gosto de programar em java! \n",
            "\n",
            "---------------------------------\n",
            "Agora com a nova palavra \n",
            "\n",
            "Eu gosto de programar em python!\n"
          ]
        }
      ]
    }
  ]
}