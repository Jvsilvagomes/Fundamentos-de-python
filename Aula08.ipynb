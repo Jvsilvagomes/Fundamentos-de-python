{
  "nbformat": 4,
  "nbformat_minor": 0,
  "metadata": {
    "colab": {
      "provenance": [],
      "authorship_tag": "ABX9TyOtEnOkuQo47NSB6IlznMmc",
      "include_colab_link": true
    },
    "kernelspec": {
      "name": "python3",
      "display_name": "Python 3"
    },
    "language_info": {
      "name": "python"
    }
  },
  "cells": [
    {
      "cell_type": "markdown",
      "metadata": {
        "id": "view-in-github",
        "colab_type": "text"
      },
      "source": [
        "<a href=\"https://colab.research.google.com/github/Jvsilvagomes/Fundamentos-de-python/blob/main/Aula08.ipynb\" target=\"_parent\"><img src=\"https://colab.research.google.com/assets/colab-badge.svg\" alt=\"Open In Colab\"/></a>"
      ]
    },
    {
      "cell_type": "code",
      "execution_count": null,
      "metadata": {
        "colab": {
          "base_uri": "https://localhost:8080/"
        },
        "id": "HFs4t3is7aff",
        "outputId": "690ee570-774b-4101-b209-491ae3acfb0d"
      },
      "outputs": [
        {
          "output_type": "stream",
          "name": "stdout",
          "text": [
            "Informe um numero para calcular seu fatorial: 01\n",
            "O fatorial de 1 é: 1\n",
            "CPU times: user 23.8 ms, sys: 1.19 ms, total: 25 ms\n",
            "Wall time: 1.44 s\n"
          ]
        }
      ],
      "source": [
        "# laços de repitição for e while\n",
        "%%time\n",
        "n = int(input(\"Informe um numero para calcular seu fatorial: \"))\n",
        "resultado = 1\n",
        "i = 1\n",
        "while i <= n:\n",
        "  resultado = resultado * i\n",
        "  i = i + 1\n",
        "print('O fatorial de {} é: {}'.format(n,resultado))\n"
      ]
    },
    {
      "cell_type": "code",
      "source": [
        "i = 1\n",
        "while i <= 5:\n",
        "    print(i)\n",
        "    i += 1"
      ],
      "metadata": {
        "colab": {
          "base_uri": "https://localhost:8080/"
        },
        "id": "WhBk9qYhDoMj",
        "outputId": "5096c4d9-d7f1-4d52-d2eb-0bb87e64aee5"
      },
      "execution_count": null,
      "outputs": [
        {
          "output_type": "stream",
          "name": "stdout",
          "text": [
            "1\n",
            "2\n",
            "3\n",
            "4\n",
            "5\n"
          ]
        }
      ]
    },
    {
      "cell_type": "markdown",
      "source": [
        "Somando os numeros impares usando o while"
      ],
      "metadata": {
        "id": "440LKiVNRu_8"
      }
    },
    {
      "cell_type": "code",
      "source": [
        "numero = int(input(\"Digite um numero inteiro: \"))\n",
        "print('\\n')\n",
        "contador= 1\n",
        "valor = 0\n",
        "\n",
        "while contador <= numero:\n",
        "  if contador% 2 != 0:\n",
        "    valor = valor + contador\n",
        "    print(contador)\n",
        "  contador += 1\n",
        "\n",
        "print('\\n')\n",
        "\n",
        "print('----------------------------------------------------------')\n",
        "\n",
        "print(f\"O valor da soma dos numeros impares até {numero} é de {valor}\")\n",
        "\n",
        "print('----------------------------------------------------------')\n"
      ],
      "metadata": {
        "id": "-adreIbGFWZb"
      },
      "execution_count": null,
      "outputs": []
    },
    {
      "cell_type": "code",
      "source": [
        "num1 = int(input(\"Digite um numero para descobrir sua tabuada: \"))\n",
        "print(f'numero escolhido foi {num1}')\n",
        "aux = 1\n",
        "print(\"\\n\")\n",
        "print(f\"Tabuada do numero {num1}\")\n",
        "print('-------------------------')\n",
        "while aux <= 10:\n",
        "  resultado = num1 * aux\n",
        "  print(f\"{num1} x {aux} = {resultado}\")\n",
        "\n",
        "  aux += 1\n"
      ],
      "metadata": {
        "colab": {
          "base_uri": "https://localhost:8080/"
        },
        "id": "fJ9zg1zBTN6s",
        "outputId": "83926917-3a57-4f9e-85db-b9a3389a564b"
      },
      "execution_count": null,
      "outputs": [
        {
          "output_type": "stream",
          "name": "stdout",
          "text": [
            "Digite um numero para descobrir sua tabuada: 10\n",
            "numero escolhido foi 10\n",
            "\n",
            "\n",
            "Tabuada do numero 10\n",
            "-------------------------\n",
            "10 x 1 = 10\n",
            "10 x 2 = 20\n",
            "10 x 3 = 30\n",
            "10 x 4 = 40\n",
            "10 x 5 = 50\n",
            "10 x 6 = 60\n",
            "10 x 7 = 70\n",
            "10 x 8 = 80\n",
            "10 x 9 = 90\n",
            "10 x 10 = 100\n"
          ]
        }
      ]
    },
    {
      "cell_type": "code",
      "source": [
        "i = 1\n",
        "result = 1\n",
        "\n",
        "while i <= 100:\n",
        "  result *= i\n",
        "  if i == 42:\n",
        "    print(\"Chegou no 42! Execução interrompida.\")\n",
        "    break\n",
        "  i += 1\n",
        "\n",
        "print(\"i:\", i)\n",
        "print('resultado:', result)\n"
      ],
      "metadata": {
        "colab": {
          "base_uri": "https://localhost:8080/"
        },
        "id": "le99IycnXmJd",
        "outputId": "16410455-3477-411e-8a1e-8505d21baf4d"
      },
      "execution_count": null,
      "outputs": [
        {
          "output_type": "stream",
          "name": "stdout",
          "text": [
            "Chegou no 42! Execução interrompida.\n",
            "i: 42\n",
            "resultado: 1405006117752879898543142606244511569936384000000000\n"
          ]
        }
      ]
    },
    {
      "cell_type": "code",
      "source": [
        "i = 0\n",
        "result = 1\n",
        "\n",
        "while i < 20:\n",
        "  i += 1\n",
        "  if i %  2 == 0:\n",
        "      print('Pular {}'.format(i))\n",
        "      continue\n",
        "  print('Multiplica com {}'.format(i))\n",
        "  result = result * i\n",
        "\n",
        "print('i:', i)\n",
        "print('resultado:', result)\n"
      ],
      "metadata": {
        "id": "495LQF50bWje"
      },
      "execution_count": null,
      "outputs": []
    },
    {
      "cell_type": "code",
      "source": [
        "i = 1\n",
        "while i < 10:\n",
        "    i += 1\n",
        "    if i == 3 or i == 7:\n",
        "        continue\n",
        "    print(i)"
      ],
      "metadata": {
        "colab": {
          "base_uri": "https://localhost:8080/"
        },
        "id": "q8u4e0aSefF-",
        "outputId": "34959462-ea2f-42ef-d51d-07c8c4d953a2"
      },
      "execution_count": null,
      "outputs": [
        {
          "output_type": "stream",
          "name": "stdout",
          "text": [
            "2\n",
            "4\n",
            "5\n",
            "6\n",
            "8\n",
            "9\n",
            "10\n"
          ]
        }
      ]
    },
    {
      "cell_type": "code",
      "source": [
        "import random\n",
        "numero_aleatorio = random.randint(1,55)\n",
        "\n",
        "while True:\n",
        "  numero = int(input(\"Digite um numero aleatório entre 1 e 55 e tente acertar o numero premiado: \"))\n",
        "  if numero == numero_aleatorio:\n",
        "    print(\"Parabens, você acertou\")\n",
        "    break\n",
        "  else:\n",
        "    print(\"Tente novamente\")\n"
      ],
      "metadata": {
        "id": "DZxB4ePWf2PF"
      },
      "execution_count": null,
      "outputs": []
    },
    {
      "cell_type": "markdown",
      "source": [
        "Começando a usar o for"
      ],
      "metadata": {
        "id": "nS_sX6JGwYrK"
      }
    },
    {
      "cell_type": "code",
      "source": [
        "# for\n",
        "\n",
        "dias = ['segunda', 'terca', 'quarta', 'quinta', 'sexta']\n",
        "for dia in dias:\n",
        "  print(dia)"
      ],
      "metadata": {
        "colab": {
          "base_uri": "https://localhost:8080/"
        },
        "id": "_mOksfC9uIaB",
        "outputId": "ac1fccd6-66ff-438b-c89b-eccffd6b3443"
      },
      "execution_count": null,
      "outputs": [
        {
          "output_type": "stream",
          "name": "stdout",
          "text": [
            "segunda\n",
            "terca\n",
            "quarta\n",
            "quinta\n",
            "sexta\n"
          ]
        }
      ]
    },
    {
      "cell_type": "code",
      "source": [
        "# looping sobra a string\n",
        "for char in 'segunda ':\n",
        "  print(char)"
      ],
      "metadata": {
        "colab": {
          "base_uri": "https://localhost:8080/"
        },
        "id": "mNarsPoNxMpK",
        "outputId": "ada65d50-eb1b-48c6-f56b-b211a5559c7e"
      },
      "execution_count": null,
      "outputs": [
        {
          "output_type": "stream",
          "name": "stdout",
          "text": [
            "s\n",
            "e\n",
            "g\n",
            "u\n",
            "n\n",
            "d\n",
            "a\n",
            " \n"
          ]
        }
      ]
    },
    {
      "cell_type": "code",
      "source": [
        "# looping sobre tuple\n",
        "\n",
        "for fruta in('maça', 'banana','uva'):\n",
        "    print(\"A fruta:\", fruta)"
      ],
      "metadata": {
        "colab": {
          "base_uri": "https://localhost:8080/"
        },
        "id": "RjbPRWZyyEdi",
        "outputId": "30a3eb34-4ad5-4ad1-de20-490dad614de4"
      },
      "execution_count": null,
      "outputs": [
        {
          "output_type": "stream",
          "name": "stdout",
          "text": [
            "A fruta: maça\n",
            "A fruta: banana\n",
            "A fruta: uva\n"
          ]
        }
      ]
    },
    {
      "cell_type": "code",
      "source": [
        "# looping sobre dicionario\n",
        "\n",
        "person1 = {\n",
        "    'nome' : 'João',\n",
        "    'idade' : 16,\n",
        "    'sexo' : 'masculino',\n",
        "    'casado' : True\n",
        "}\n",
        "\n",
        "for key in person1:\n",
        "  print(\"key:\", key, \",\", \"Value:\", person1[key])"
      ],
      "metadata": {
        "colab": {
          "base_uri": "https://localhost:8080/"
        },
        "id": "94dMRlrE0TrD",
        "outputId": "d5c91d82-d22d-4007-9ed7-d030e539e9e9"
      },
      "execution_count": null,
      "outputs": [
        {
          "output_type": "stream",
          "name": "stdout",
          "text": [
            "key: nome , Value: João\n",
            "key: idade , Value: 16\n",
            "key: sexo , Value: masculino\n",
            "key: casado , Value: True\n"
          ]
        }
      ]
    },
    {
      "cell_type": "code",
      "source": [
        "for numero in range(1, 11):\n",
        "    print(numero)"
      ],
      "metadata": {
        "id": "nv5fwR51zDoj"
      },
      "execution_count": null,
      "outputs": []
    },
    {
      "cell_type": "code",
      "source": [
        "for numero in range(7):\n",
        "  print(numero)"
      ],
      "metadata": {
        "id": "zatBVsO82X1T"
      },
      "execution_count": null,
      "outputs": []
    },
    {
      "cell_type": "code",
      "source": [
        "for i in range (3, 14, 4):\n",
        "  print(i)"
      ],
      "metadata": {
        "id": "bz-Dx97O4hgl"
      },
      "execution_count": null,
      "outputs": []
    },
    {
      "cell_type": "code",
      "source": [
        "a_list = ['segunda', 'terca', 'quarta', 'quinta', 'sexta']\n",
        "for i in range(len(a_list)):\n",
        "  print(\"O valor da posição {} é {}.\".format(i, a_list[i]))"
      ],
      "metadata": {
        "id": "1Nacmgi15MyU"
      },
      "execution_count": null,
      "outputs": []
    },
    {
      "cell_type": "code",
      "source": [
        "persons = [{'nome':'João', 'sexo':'masculino'}, {'nome':'Julia', 'sexo':'Feminino'}]\n",
        "\n",
        "for person in persons:\n",
        "  for key in person:\n",
        "    print(key, \":\", person[key])\n",
        "    print(\" \")"
      ],
      "metadata": {
        "id": "GRIIy0yi7MIm"
      },
      "execution_count": null,
      "outputs": []
    },
    {
      "cell_type": "code",
      "source": [
        "for numero in range(1, 6):\n",
        "    print(numero)"
      ],
      "metadata": {
        "id": "w6ySnJLA-mMt"
      },
      "execution_count": null,
      "outputs": []
    },
    {
      "cell_type": "code",
      "source": [
        "tabuada = int(input('Escolha um numero para descobrir sua tabuada: '))\n",
        "for i in range(0, 11):\n",
        "  print(f\"{tabuada} x {i} = {tabuada*i}\")\n",
        "  i += 1\n"
      ],
      "metadata": {
        "id": "3F9XUX8-DvDv"
      },
      "execution_count": null,
      "outputs": []
    },
    {
      "cell_type": "code",
      "source": [
        "for numb in range(0, 101):\n",
        "  if numb % 2 == 0:\n",
        "    print(numb)"
      ],
      "metadata": {
        "id": "yUtLdxD-HBOo"
      },
      "execution_count": null,
      "outputs": []
    },
    {
      "cell_type": "code",
      "source": [],
      "metadata": {
        "id": "miJcFOkcK1D5"
      },
      "execution_count": null,
      "outputs": []
    }
  ]
}