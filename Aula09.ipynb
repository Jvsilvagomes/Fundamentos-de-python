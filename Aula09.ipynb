{
  "nbformat": 4,
  "nbformat_minor": 0,
  "metadata": {
    "colab": {
      "provenance": [],
      "authorship_tag": "ABX9TyM+/+aWuNv6npEXDD/bCMBY",
      "include_colab_link": true
    },
    "kernelspec": {
      "name": "python3",
      "display_name": "Python 3"
    },
    "language_info": {
      "name": "python"
    }
  },
  "cells": [
    {
      "cell_type": "markdown",
      "metadata": {
        "id": "view-in-github",
        "colab_type": "text"
      },
      "source": [
        "<a href=\"https://colab.research.google.com/github/Jvsilvagomes/Fundamentos-de-python/blob/main/Aula09.ipynb\" target=\"_parent\"><img src=\"https://colab.research.google.com/assets/colab-badge.svg\" alt=\"Open In Colab\"/></a>"
      ]
    },
    {
      "cell_type": "code",
      "execution_count": null,
      "metadata": {
        "id": "EutuVaKmK5Tu"
      },
      "outputs": [],
      "source": [
        "def saudacao(nome):\n",
        "  \"\"\"Esta dunção imprime uma saudação com o nome fornecido. \"\"\"\n",
        "  print(f\"Olá,{nome}!\")\n",
        "\n",
        "# chamda da funcao\n",
        "  saudacao(alice)\n"
      ]
    },
    {
      "cell_type": "code",
      "source": [
        "hoje = \"Quarta\"\n",
        "print(\"Hoje é: \", hoje)"
      ],
      "metadata": {
        "colab": {
          "base_uri": "https://localhost:8080/"
        },
        "id": "KVur882mMJoh",
        "outputId": "327aaf5e-259c-4555-8598-3783141bcbe6"
      },
      "execution_count": null,
      "outputs": [
        {
          "output_type": "stream",
          "name": "stdout",
          "text": [
            "Hoje é:  Quarta\n"
          ]
        }
      ]
    },
    {
      "cell_type": "code",
      "source": [
        "def print_dia(hoje):\n",
        "  print(\"Hoje é: \", hoje)\n",
        "\n",
        "h = input('Informe o dia da semana: ')\n",
        "print_dia(h)"
      ],
      "metadata": {
        "colab": {
          "base_uri": "https://localhost:8080/"
        },
        "id": "m8kptR5ZMrkI",
        "outputId": "3b7f632c-ce30-44e9-f9fd-4b6a0c0c89b1"
      },
      "execution_count": null,
      "outputs": [
        {
          "output_type": "stream",
          "name": "stdout",
          "text": [
            "Informe o dia da semana: segunda\n",
            "Hoje é:  segunda\n"
          ]
        }
      ]
    },
    {
      "cell_type": "code",
      "source": [
        "# passando valores parametro\n",
        "\n",
        "def soma(a, b ,c):\n",
        "  print(\"A soma total é: \",a+b+c)\n",
        "\n",
        "  soma(4, 6 ,4)"
      ],
      "metadata": {
        "id": "02iHO7yaO9f7"
      },
      "execution_count": null,
      "outputs": []
    },
    {
      "cell_type": "code",
      "source": [
        "# pode retornar um valor\n",
        "def soma(a,b,c):\n",
        "  return a+b+c\n",
        "\n",
        "print(soma(3,1,6))"
      ],
      "metadata": {
        "colab": {
          "base_uri": "https://localhost:8080/"
        },
        "id": "PEBKuSiFQ7jj",
        "outputId": "caff1a8e-d302-4ee3-f5bf-8e2461c78dc2"
      },
      "execution_count": null,
      "outputs": [
        {
          "output_type": "stream",
          "name": "stdout",
          "text": [
            "103\n"
          ]
        }
      ]
    },
    {
      "cell_type": "code",
      "source": [
        "# pode retornar mais de um valor\n",
        "\n",
        "def soma_multiplicacao(a,c,b):\n",
        "  return (a+b+c), (a*b*c)\n",
        "\n",
        "soma, multiplicacao = soma_multiplicacao(298,157,244)\n",
        "\n",
        "print(\"A soma é {} e a multiplicacao é {}\".format(soma,multiplicacao))\n"
      ],
      "metadata": {
        "colab": {
          "base_uri": "https://localhost:8080/"
        },
        "id": "nS5sQVL1RBYq",
        "outputId": "e45d6007-d672-4223-f625-6c15549012c3"
      },
      "execution_count": null,
      "outputs": [
        {
          "output_type": "stream",
          "name": "stdout",
          "text": [
            "A soma é 699 e a multiplicacao é 11415784\n"
          ]
        }
      ]
    },
    {
      "cell_type": "code",
      "source": [
        "def Tratamento_Texto(frase):\n",
        " return frase.lower().strip().replace('@','')\n",
        "Texto_input = '                O meu Email é Test@gmail.com'\n",
        "print(Tratamento_Texto(Texto_input))"
      ],
      "metadata": {
        "id": "B0hEZEdwW0cU",
        "colab": {
          "base_uri": "https://localhost:8080/"
        },
        "outputId": "235f5e26-7024-48ce-fdcb-b255c87532b4"
      },
      "execution_count": null,
      "outputs": [
        {
          "output_type": "stream",
          "name": "stdout",
          "text": [
            "o meu email é testgmail.com\n"
          ]
        }
      ]
    },
    {
      "cell_type": "code",
      "source": [
        "def quadrado(x):\n",
        "  return x**2\n",
        "print(quadrado(5))"
      ],
      "metadata": {
        "colab": {
          "base_uri": "https://localhost:8080/"
        },
        "id": "_qFVGuMK3EKo",
        "outputId": "a7562a43-8df8-42f6-c863-68ac56f73127"
      },
      "execution_count": null,
      "outputs": [
        {
          "output_type": "stream",
          "name": "stdout",
          "text": [
            "25\n"
          ]
        }
      ]
    },
    {
      "cell_type": "code",
      "source": [
        "quadrado = lambda x: x**2\n",
        "print(quadrado(5)) #Saida será 25"
      ],
      "metadata": {
        "colab": {
          "base_uri": "https://localhost:8080/"
        },
        "id": "nPaaB-4L4JhA",
        "outputId": "d3712618-b324-4b00-b804-1678114a651f"
      },
      "execution_count": null,
      "outputs": [
        {
          "output_type": "stream",
          "name": "stdout",
          "text": [
            "25\n"
          ]
        }
      ]
    },
    {
      "cell_type": "code",
      "source": [
        "def soma(x, y):\n",
        "  return x + y\n",
        "print(soma(4, 109))"
      ],
      "metadata": {
        "colab": {
          "base_uri": "https://localhost:8080/"
        },
        "id": "fKptCoGz4Wqg",
        "outputId": "4937e159-2ec0-40d6-e8aa-ae1b3de45df1"
      },
      "execution_count": null,
      "outputs": [
        {
          "output_type": "stream",
          "name": "stdout",
          "text": [
            "113\n"
          ]
        }
      ]
    },
    {
      "cell_type": "code",
      "source": [
        "soma = lambda x, y: x + y\n",
        "print(soma(4, 10))"
      ],
      "metadata": {
        "colab": {
          "base_uri": "https://localhost:8080/"
        },
        "id": "Ht1TmpW05wpp",
        "outputId": "fad3f063-8c7e-4134-e357-8a90df3cfbb7"
      },
      "execution_count": null,
      "outputs": [
        {
          "output_type": "stream",
          "name": "stdout",
          "text": [
            "14\n"
          ]
        }
      ]
    },
    {
      "cell_type": "code",
      "source": [
        "numeros = [1, 2 ,3 ,4 ,5]\n",
        "ao_quadrado = list(map(lambda x : x**2, numeros))\n",
        "print(ao_quadrado)\n",
        "\n",
        "#Sai o ao quadrado de cada numero dentro de um array"
      ],
      "metadata": {
        "colab": {
          "base_uri": "https://localhost:8080/"
        },
        "id": "Egs8JfLf6DSZ",
        "outputId": "1db0e307-7e2b-422d-ac68-10006dbbc391"
      },
      "execution_count": null,
      "outputs": [
        {
          "output_type": "stream",
          "name": "stdout",
          "text": [
            "[1, 4, 9, 16, 25]\n"
          ]
        }
      ]
    },
    {
      "cell_type": "code",
      "source": [
        "numeros = [1, 2 ,3 ,4 ,5, 1000, 999, 232,122, 878, 13, 997]\n",
        "pares = list(filter(lambda x: x % 2 == 0, numeros))\n",
        "print(pares)"
      ],
      "metadata": {
        "colab": {
          "base_uri": "https://localhost:8080/"
        },
        "id": "lkcKEvE07sei",
        "outputId": "4a2d5780-e28b-444b-bde5-07fe51b2d11d"
      },
      "execution_count": null,
      "outputs": [
        {
          "output_type": "stream",
          "name": "stdout",
          "text": [
            "[2, 4, 1000, 232, 122, 878]\n"
          ]
        }
      ]
    },
    {
      "cell_type": "code",
      "source": [
        "#  importando uma função sqrt da biblioteca math\n",
        "\n",
        "from math import sqrt\n",
        "resultado = sqrt\n",
        "resultado = sqrt(25)\n",
        "print(resultado)\n"
      ],
      "metadata": {
        "colab": {
          "base_uri": "https://localhost:8080/"
        },
        "id": "cOiEtCCL9x_q",
        "outputId": "6fac713b-3630-4511-8b4b-bf02e2862219"
      },
      "execution_count": null,
      "outputs": [
        {
          "output_type": "stream",
          "name": "stdout",
          "text": [
            "5.0\n"
          ]
        }
      ]
    }
  ]
}